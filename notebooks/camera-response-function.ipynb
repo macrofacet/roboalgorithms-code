{
 "cells": [
  {
   "cell_type": "code",
   "execution_count": null,
   "metadata": {},
   "outputs": [],
   "source": [
    "%load_ext autoreload\n",
    "%autoreload 2\n",
    "\n",
    "import numpy as np  # type: ignore\n",
    "import seaborn as sns # type: ignore\n",
    "import matplotlib.pyplot as plt  # type: ignore\n",
    "\n",
    "import util\n",
    "util.set_style()\n",
    "\n",
    "%matplotlib inline"
   ]
  },
  {
   "cell_type": "markdown",
   "metadata": {},
   "source": [
    "# Camera Response Function\n",
    "\n",
    "The concepts from this notebook are covered in "
   ]
  },
  {
   "cell_type": "markdown",
   "metadata": {},
   "source": [
    "## Cameras measure photons ☀️\n",
    "\n",
    "### Converting voltages to pixel values  📺"
   ]
  },
  {
   "cell_type": "code",
   "execution_count": null,
   "metadata": {},
   "outputs": [],
   "source": [
    "def max_value(bit_depth: int) -> int:\n",
    "    \"\"\"Return max integer value for the specified bit depth\"\"\"\n",
    "    return 2**bit_depth - 1\n",
    "\n",
    "def adc(milivolts: np.ndarray, bit_depth: int = 8) -> int:\n",
    "    \"\"\"Naive A/D converter\n",
    "    \n",
    "    milivolts  -- accumulated voltage from a photodiode\n",
    "    bit_depth  -- target bit depth of the digitized output\n",
    "    \"\"\"\n",
    "    return np.clip(np.around(milivolts), 0, max_value(bit_depth))\n",
    "\n",
    "def plot_adc_examples():\n",
    "    \"\"\"Plot a few intresting examples\"\"\"\n",
    "    f, axes = plt.subplots(1, 3, figsize=(20, 5))\n",
    "    x_label = 'Input voltage (mV)'\n",
    "    y_label = 'Output pixel value'\n",
    "\n",
    "    voltages = np.arange(0, 10, 0.1)\n",
    "    util.plot(axes[0], voltages, adc(voltages), \n",
    "              \"In supported range\", x_label, y_label)\n",
    "\n",
    "    voltages = np.arange(0, 0.5, 0.01)\n",
    "    util.plot(axes[1], voltages, adc(voltages), \n",
    "              \"Below supported range\", x_label, y_label)\n",
    "\n",
    "    voltages = np.arange(255, 500, 1)\n",
    "    util.plot(axes[2], voltages, adc(voltages), \n",
    "              \"Above supported range\", x_label, y_label)\n",
    "    \n",
    "plot_adc_examples()"
   ]
  },
  {
   "cell_type": "markdown",
   "metadata": {},
   "source": [
    "### Programmable Gain Amplifier ⬛"
   ]
  },
  {
   "cell_type": "code",
   "execution_count": null,
   "metadata": {
    "scrolled": true
   },
   "outputs": [],
   "source": [
    "photodiode_array_milivolts = np.array([0.028, 0.213, 0.234, 0.459])\n",
    "pixel_values = adc(photodiode_array_milivolts)\n",
    "util.display_images([pixel_values], titles=[\"Underexposed image\"])"
   ]
  },
  {
   "cell_type": "code",
   "execution_count": null,
   "metadata": {},
   "outputs": [],
   "source": [
    "def pga(milivolts: np.ndarray, gain: float = 1.0) -> float:\n",
    "    \"\"\"Naive programmable-gain amplifier\n",
    "    \n",
    "    milivolts  -- input voltage from photodiode\n",
    "    gain       -- ratio output / input\n",
    "    \"\"\"\n",
    "    return gain * milivolts\n",
    "\n",
    "# Add an amplifier to the same example values from above\n",
    "pixel_values = adc(pga(photodiode_array_milivolts, gain=300.0))\n",
    "util.display_images([pixel_values], titles=[\"Amplified image\"])"
   ]
  },
  {
   "cell_type": "markdown",
   "metadata": {},
   "source": [
    "## Let's simulate a simple camera 📷\n",
    "\n",
    "\n",
    "### Simulating a 2x2 pixel sensor 🧱"
   ]
  },
  {
   "cell_type": "code",
   "execution_count": null,
   "metadata": {},
   "outputs": [],
   "source": [
    "import numpy as np\n",
    "\n",
    "def get_sensor_irradiance():\n",
    "    \"\"\"Get a sample sensor irradiance\n",
    "    \n",
    "    We have an imaging sensor of 2x2 pixels (stored as 1D array)\n",
    "    The sensor irradiance encodes how many photons\n",
    "    are hitting the image sensor every second.\n",
    "    The values are arbitrarily chosen.\n",
    "    \"\"\"\n",
    "    pix11_irradiance = 1122 # photons / second\n",
    "    pix12_irradiance = 3242 # photons / second\n",
    "    pix21_irradiance = 1452 # photons / second\n",
    "    pix22_irradiance = 25031 # photons / second\n",
    "\n",
    "    return np.array([\n",
    "        pix11_irradiance, pix12_irradiance,\n",
    "        pix21_irradiance, pix22_irradiance])"
   ]
  },
  {
   "cell_type": "code",
   "execution_count": null,
   "metadata": {
    "scrolled": false
   },
   "outputs": [],
   "source": [
    "from typing import Callable\n",
    "\n",
    "ResponseFunction = Callable[[np.ndarray, int], np.ndarray]\n",
    "\n",
    "def capture_image(E: np.ndarray, t: float, G: ResponseFunction, \n",
    "                 bit_depth: int = 8, std_noise: float = 1.0) -> np.ndarray:\n",
    "    \"\"\"Simulate capturing an image with exposure time t.\n",
    "    \n",
    "    You can specify higher bit_depth for internal processing prior to\n",
    "    finally converting the image to 8-bit depth before output.\n",
    "\n",
    "    E         -- sensor irradiance\n",
    "    t         -- exposure time (seconds)\n",
    "    G         -- camera response function (CRF)\n",
    "    bit_depth -- bit depth for A/D converter output and response function input\n",
    "    std_noise -- standard deviation for the gaussian noise distribution\n",
    "    \"\"\"\n",
    "    # Non-realistic but simple calculation\n",
    "    accumulated_milivolts = E * t\n",
    "    \n",
    "    # Add gaussian noise to voltage measurement\n",
    "    noise = np.random.normal(0, std_noise, size=len(accumulated_milivolts))\n",
    "    accumulated_milivolts += noise\n",
    "    \n",
    "    image = G(\n",
    "        adc(pga(accumulated_milivolts), bit_depth), bit_depth\n",
    "    )\n",
    "    \n",
    "    # Always convert to 8-bit depth prior to saving / outputting\n",
    "    to_8bit_depth = max_value(8) / max_value(bit_depth)\n",
    "    return np.around(image * to_8bit_depth)"
   ]
  },
  {
   "cell_type": "code",
   "execution_count": null,
   "metadata": {},
   "outputs": [],
   "source": [
    "def linear_crf(X: np.ndarray, bit_depth: int) -> np.ndarray:\n",
    "    \"\"\"Linear camera response function G(x) = x\"\"\"\n",
    "    return X\n",
    "\n",
    "# Take a couple of images with different exposures\n",
    "img1 = capture_image(E=get_sensor_irradiance(), t=1/10, G=linear_crf)\n",
    "img2 = capture_image(E=get_sensor_irradiance(), t=1/100, G=linear_crf)\n",
    "util.display_images([img1, img2], \n",
    "                    titles=[\"Exposure: t = 1/10 second\", \n",
    "                            \"Exposure: t = 1/100 second\"])"
   ]
  },
  {
   "cell_type": "code",
   "execution_count": null,
   "metadata": {},
   "outputs": [],
   "source": [
    "def get_extreme_sensor_irradiance():\n",
    "    # Note that the range spans multiple orders of magnitude \n",
    "    return np.array([182, 5432, 15329, 252531])\n",
    "\n",
    "t1, t2 = 1/5, 1/500\n",
    "img1 = capture_image(E=get_extreme_sensor_irradiance(), t=t1, G=linear_crf)\n",
    "img2 = capture_image(E=get_extreme_sensor_irradiance(), t=t2, G=linear_crf)\n",
    "util.display_images([img1, img2], \n",
    "                    titles=[\"Exposure: t1 = 1/5 second\", \n",
    "                            \"Exposure: t2 = 1/500 second\"])"
   ]
  },
  {
   "cell_type": "markdown",
   "metadata": {},
   "source": [
    "## HDR Images 🪂\n",
    "\n"
   ]
  },
  {
   "cell_type": "code",
   "execution_count": null,
   "metadata": {
    "scrolled": false
   },
   "outputs": [],
   "source": [
    "from typing import List\n",
    "\n",
    "InverseResponseFunction = Callable[[np.ndarray], np.ndarray]\n",
    "\n",
    "def recover_image_irradiance(I: np.ndarray, \n",
    "                             t: float, U: InverseResponseFunction) -> np.ndarray:\n",
    "    \"\"\"Recover the irradiance from an image that was\n",
    "    taken with known exposure time t.\n",
    "\n",
    "    We cannot recover any useful information from \n",
    "    oversaturated (255) or undersaturated (0) image \n",
    "    intensities. Return 0 in both cases as this helps\n",
    "    eliminate the need for separate case handling.\n",
    "\n",
    "    I  -- image (array of image intensities)\n",
    "    t  -- exposure time (seconds)\n",
    "    U  -- inverse of the response function\n",
    "    \"\"\"\n",
    "    I[I == 255] = 0 # oversaturated pixels\n",
    "    return U(I) / t"
   ]
  },
  {
   "cell_type": "code",
   "execution_count": null,
   "metadata": {},
   "outputs": [],
   "source": [
    "def linear_inverse_crf(I: np.ndarray) -> np.ndarray:\n",
    "    \"\"\"Linear inverse camera response function U(x) = x\"\"\"\n",
    "    return I\n",
    "\n",
    "print(f\"\\nImage irradiance (t = {t1}):\")\n",
    "print(recover_image_irradiance(I=img1, t=t1, U=linear_inverse_crf))\n",
    "print(f\"\\nImage irradiance (t = {t2}):\")\n",
    "print(recover_image_irradiance(I=img2, t=t2, U=linear_inverse_crf))"
   ]
  },
  {
   "cell_type": "code",
   "execution_count": null,
   "metadata": {},
   "outputs": [],
   "source": [
    "t3 = 1/2000\n",
    "img3 = capture_image(E=get_extreme_sensor_irradiance(), t=t3, G=linear_crf)\n",
    "print(f\"\\nImage irradiance (t = {t3:.4f}):\")\n",
    "print(recover_image_irradiance(I=img3, t=t3, U=linear_inverse_crf))"
   ]
  },
  {
   "cell_type": "code",
   "execution_count": null,
   "metadata": {},
   "outputs": [],
   "source": [
    "def estimate_sensor_irradiance_average(images: List[np.ndarray], \n",
    "                                       exposures: List[float], \n",
    "                                       U: InverseResponseFunction) -> np.ndarray:\n",
    "    \"\"\"Recover the sensor irradiance\n",
    "    \n",
    "    images    -- list of images to use for recovery\n",
    "    exposures -- corresponding list of exposures\n",
    "    U         -- inverse response function\n",
    "    \"\"\"\n",
    "    assert len(images) == len(exposures), \\\n",
    "            \"The number of images and exposures don't match\"\n",
    "    assert len(images) > 0, \"Expected non-empty list of images\"\n",
    "    \n",
    "    image_size = images[0].shape[0]\n",
    "    \n",
    "    irradiance_sum = np.zeros(image_size)\n",
    "    irradiance_count = np.zeros(image_size)\n",
    "    for I, t in zip(images, exposures):\n",
    "        image_irradiance = recover_image_irradiance(I, t, U)\n",
    "        irradiance_sum += image_irradiance\n",
    "        # Only non-zero values are observed and contribute to average\n",
    "        irradiance_count[image_irradiance != 0] += 1\n",
    "\n",
    "    return np.divide(irradiance_sum, irradiance_count, \n",
    "                     out=np.zeros(image_size), \n",
    "                     where=irradiance_count != 0)"
   ]
  },
  {
   "cell_type": "code",
   "execution_count": null,
   "metadata": {},
   "outputs": [],
   "source": [
    "estimated_sensor_irradiance = estimate_sensor_irradiance_average(\n",
    "    [img1, img2, img3], [t1, t2, t3], U=linear_inverse_crf)\n",
    "\n",
    "util.print_error_to_ground_truth(\n",
    "    estimated_sensor_irradiance, ground_truth=get_extreme_sensor_irradiance())"
   ]
  },
  {
   "cell_type": "code",
   "execution_count": null,
   "metadata": {
    "scrolled": true
   },
   "outputs": [],
   "source": [
    "from typing import Tuple\n",
    "\n",
    "ImagesExposuresTuple = Tuple[List[np.ndarray], List[float]]\n",
    "\n",
    "def generate_sliding_exposure_dataset(\n",
    "    E: np.ndarray, G: ResponseFunction, bit_depth: int = 8, \n",
    "    start_us: int = 40, step_perc: int = 5, number_exposures: int = 220, \n",
    "    images_per_exposure: int = 1) -> ImagesExposuresTuple:\n",
    "    \"\"\"Generate dataset with sliding exposure values\n",
    "    \n",
    "    E                    -- sensor irradiance\n",
    "    G                    -- camera response function\n",
    "    bit_depth            -- bit depth for the camera's internal processing\n",
    "    start_us             -- microseconds for the starting value of the sequence\n",
    "    step_perc            -- percentage step between subsequent exposure values\n",
    "    number_exposures     -- number of unique exposure times to generate\n",
    "    images_per_exposure  -- number of images per exposure time\n",
    "    \"\"\"\n",
    "    def get_exposure_seconds(idx: int) -> float:\n",
    "        multiplier = (1 + (step_perc / 100)) ** idx\n",
    "        return round(start_us * multiplier) * 1e-6\n",
    "    \n",
    "    images, exposures = [], []\n",
    "    for exposure_idx in range(number_exposures):\n",
    "        for _ in range(images_per_exposure):\n",
    "            t = get_exposure_seconds(exposure_idx)\n",
    "            images.append(capture_image(E=E, t=t, G=G))\n",
    "            exposures.append(t)\n",
    "            \n",
    "    return images, exposures"
   ]
  },
  {
   "cell_type": "code",
   "execution_count": null,
   "metadata": {},
   "outputs": [],
   "source": [
    "# We can check if the dataset is good by plotting the number \n",
    "# of valid observations for each of the pixels in the image. \n",
    "# Valid observations are pixels which are well exposed\n",
    "images, exposures = generate_sliding_exposure_dataset(\n",
    "            E=get_extreme_sensor_irradiance(), G=linear_crf)\n",
    "\n",
    "util.display_valid_observations(np.array(images))"
   ]
  },
  {
   "cell_type": "code",
   "execution_count": null,
   "metadata": {},
   "outputs": [],
   "source": [
    "EstimateSensorIrradianceFunction = Callable[[List[np.ndarray], List[float], \n",
    "                                             InverseResponseFunction], np.ndarray]\n",
    "\n",
    "def get_irradiance_estimates(\n",
    "    estimate_func: EstimateSensorIrradianceFunction, \n",
    "    images_per_exposure: int, \n",
    "    number_experiments: int) -> np.ndarray:\n",
    "    \"\"\"Get sensor irradiance estimates from a number of experiments\"\"\"\n",
    "    \n",
    "    estimates = []\n",
    "\n",
    "    for _ in range(number_experiments):\n",
    "        images, exposures = generate_sliding_exposure_dataset(\n",
    "            E=get_extreme_sensor_irradiance(), G=linear_crf, \n",
    "            images_per_exposure=images_per_exposure)\n",
    "        irradiance_estimate = estimate_func(\n",
    "            images, exposures, U=linear_inverse_crf)\n",
    "        estimates.append(irradiance_estimate)\n",
    "\n",
    "    return np.array(estimates)\n",
    "\n",
    "# Only 1 image per exposure time results in noisy estimates\n",
    "irradiance_estimates = get_irradiance_estimates(estimate_sensor_irradiance_average, images_per_exposure=1, number_experiments=10)\n",
    "util.show_experiment_errors(irradiance_estimates, ground_truth=get_extreme_sensor_irradiance())"
   ]
  },
  {
   "cell_type": "code",
   "execution_count": null,
   "metadata": {},
   "outputs": [],
   "source": [
    "# With 10 images per exposure time the noise is better averaged out\n",
    "irradiance_estimates = get_irradiance_estimates(\n",
    "    estimate_sensor_irradiance_average, \n",
    "    images_per_exposure=10, \n",
    "    number_experiments=10)\n",
    "util.show_experiment_errors(irradiance_estimates, ground_truth=get_extreme_sensor_irradiance())"
   ]
  },
  {
   "cell_type": "code",
   "execution_count": null,
   "metadata": {
    "scrolled": false
   },
   "outputs": [],
   "source": [
    "util.display_observations_distribution(np.array(images))"
   ]
  },
  {
   "cell_type": "code",
   "execution_count": null,
   "metadata": {},
   "outputs": [],
   "source": [
    "util.plot_exposures(exposures)"
   ]
  },
  {
   "cell_type": "code",
   "execution_count": null,
   "metadata": {},
   "outputs": [],
   "source": [
    "def weighting_debevek_malik(pix_value: int) -> int:\n",
    "    \"\"\"Weighting function for recovering irradiance\"\"\"\n",
    "    if pix_value <= 127:\n",
    "        return pix_value\n",
    "    if pix_value > 127:\n",
    "        return 255 - pix_value\n",
    "    \n",
    "def plot_weighting_debevek_malik():\n",
    "    plt.title(\"Weight Function\")\n",
    "    plt.xlabel(\"Input\")\n",
    "    plt.ylabel(\"Output\")\n",
    "\n",
    "    x = np.arange(0, 255, 1)\n",
    "    weight = np.vectorize(weighting_debevek_malik)(x)\n",
    "    plt.plot(x, weight)\n",
    "    \n",
    "plot_weighting_debevek_malik()"
   ]
  },
  {
   "cell_type": "code",
   "execution_count": null,
   "metadata": {},
   "outputs": [],
   "source": [
    "def estimate_sensor_irradiance_weighted(\n",
    "    images: List[np.ndarray], exposures: List[float], \n",
    "    U: Callable[[np.ndarray], np.ndarray], w: Callable[[int], int]) -> np.ndarray:\n",
    "    \"\"\"Estimate the sensor irradiance\n",
    "    \n",
    "    The recovered image irradiances are weighted according to the provided\n",
    "    weighting function. This works best with higher number of images \n",
    "    and well-distributed exposure times.\n",
    "    \n",
    "    images    -- list of images to use for recovery\n",
    "    exposures -- corresponding list of exposures\n",
    "    U         -- inverse response function\n",
    "    w         -- weighting function\n",
    "    \"\"\"\n",
    "    assert len(images) == len(exposures), \\\n",
    "            \"The number of images and exposures don't match\"\n",
    "    assert len(images) > 0, \"Expected non-empty list of images\"\n",
    "    \n",
    "    image_size = images[0].shape[0]\n",
    "    w_vec = np.vectorize(w)\n",
    "    \n",
    "    irradiance_sum = np.zeros(image_size)\n",
    "    irradiance_count = np.zeros(image_size)\n",
    "    for I, t in zip(images, exposures):\n",
    "        weights = w_vec(I)\n",
    "        image_irradiance = recover_image_irradiance(I, t, U)\n",
    "        irradiance_sum += weights * image_irradiance\n",
    "        # Only non-zero values are observed and contribute to average\n",
    "        irradiance_count[image_irradiance != 0] += weights[image_irradiance != 0]\n",
    "\n",
    "    return np.divide(irradiance_sum, irradiance_count, \n",
    "                     out=np.zeros(image_size), \n",
    "                     where=irradiance_count != 0)"
   ]
  },
  {
   "cell_type": "code",
   "execution_count": null,
   "metadata": {
    "scrolled": false
   },
   "outputs": [],
   "source": [
    "from functools import partial\n",
    "\n",
    "estimate_func = partial(estimate_sensor_irradiance_weighted, w=weighting_debevek_malik)\n",
    "irradiance_estimates = get_irradiance_estimates(\n",
    "    estimate_func, images_per_exposure=10, number_experiments=10)\n",
    "util.show_experiment_errors(irradiance_estimates, ground_truth=get_extreme_sensor_irradiance())"
   ]
  },
  {
   "cell_type": "code",
   "execution_count": null,
   "metadata": {},
   "outputs": [],
   "source": [
    "def weighting_squared(pix_value: int) -> int:\n",
    "    return weighting_debevek_malik(pix_value) ** 2\n",
    "\n",
    "def plot_weighting_squared():\n",
    "    plt.title(\"Weight Function\")\n",
    "    plt.xlabel(\"Input\")\n",
    "    plt.ylabel(\"Output\")\n",
    "\n",
    "    x = np.arange(0, 255, 1)\n",
    "    weight = np.vectorize(weighting_squared)(x)\n",
    "    plt.plot(x, weight)\n",
    "    \n",
    "plot_weighting_squared()"
   ]
  },
  {
   "cell_type": "code",
   "execution_count": null,
   "metadata": {},
   "outputs": [],
   "source": [
    "estimate_func = partial(estimate_sensor_irradiance_weighted, w=weighting_squared)\n",
    "irradiance_estimates = get_irradiance_estimates(\n",
    "    estimate_func, images_per_exposure=10, number_experiments=10)\n",
    "util.show_experiment_errors(irradiance_estimates, ground_truth=get_extreme_sensor_irradiance())"
   ]
  },
  {
   "cell_type": "code",
   "execution_count": null,
   "metadata": {},
   "outputs": [],
   "source": [
    "images, exposures = generate_sliding_exposure_dataset(\n",
    "            E=get_extreme_sensor_irradiance(), G=linear_crf)\n",
    "\n",
    "recovered_sensor_irradiance = estimate_sensor_irradiance_weighted(\n",
    "    images, exposures, U=linear_inverse_crf, w=weighting_squared)\n",
    "util.print_error_to_ground_truth(\n",
    "    recovered_sensor_irradiance, ground_truth=get_extreme_sensor_irradiance())"
   ]
  },
  {
   "cell_type": "markdown",
   "metadata": {},
   "source": [
    "### Displaying HDR Images 🖥️"
   ]
  },
  {
   "cell_type": "code",
   "execution_count": null,
   "metadata": {},
   "outputs": [],
   "source": [
    "def normalize_255(image: np.ndarray) -> np.ndarray:\n",
    "    \"\"\"Normalize values withing range [0, 255]\"\"\"\n",
    "    min_i, max_i = min(image), max(image)\n",
    "    assert min_i < max_i, \"Range cannot be normalized (min == max)\"\n",
    "    return np.around((image - min_i) * (255 / (max_i - min_i)))\n",
    "\n",
    "hdr_linear = normalize_255(recovered_sensor_irradiance)\n",
    "util.display_images([hdr_linear], titles=[\"HDR (linear)\"])"
   ]
  },
  {
   "cell_type": "markdown",
   "metadata": {},
   "source": [
    "### Gamma encoding 📈"
   ]
  },
  {
   "cell_type": "code",
   "execution_count": null,
   "metadata": {},
   "outputs": [],
   "source": [
    "def gamma(X: np.ndarray) -> np.ndarray:\n",
    "    assert all(X >= 0) and all(X <= 1)\n",
    "    return X**(1/2.2)\n",
    "\n",
    "def plot_gamma_function():\n",
    "    plt.title(\"Linear vs Gamma\")\n",
    "    plt.xlabel(\"Input\")\n",
    "    plt.ylabel(\"Output\")\n",
    "\n",
    "    x = np.arange(0, 1, 0.001)\n",
    "    plt.plot(x, gamma(x))\n",
    "    plt.plot(x, x)\n",
    "    \n",
    "plot_gamma_function()"
   ]
  },
  {
   "cell_type": "code",
   "execution_count": null,
   "metadata": {},
   "outputs": [],
   "source": [
    "def apply_gamma(E: np.ndarray, bit_depth: int = 8):\n",
    "    return gamma(E / max_value(bit_depth)) * max_value(bit_depth)\n",
    "\n",
    "hdr_gamma = apply_gamma(normalize_255(recovered_sensor_irradiance))\n",
    "hdr_log = normalize_255(np.log(recovered_sensor_irradiance + 1))\n",
    "\n",
    "util.display_images([hdr_linear, hdr_gamma, hdr_log], titles=[\"HDR (linear)\", \"HDR (gamma)\", \"HDR (log)\"])"
   ]
  },
  {
   "cell_type": "markdown",
   "metadata": {},
   "source": [
    "## CRF Calibration 🔬\n",
    "\n",
    "\n",
    "### Calibrate from a single pixel"
   ]
  },
  {
   "cell_type": "code",
   "execution_count": null,
   "metadata": {},
   "outputs": [],
   "source": [
    "# Initialize the inverse function U to 0s\n",
    "U = np.array([0.] * 256)"
   ]
  },
  {
   "cell_type": "code",
   "execution_count": null,
   "metadata": {
    "scrolled": true
   },
   "outputs": [],
   "source": [
    "def generate_crf_calibration_dataset(\n",
    "    E: np.ndarray, G: Callable[[np.ndarray, int], np.ndarray], \n",
    "    bit_depth: int = 8, start_ms: int = 1, end_ms: int = 201, \n",
    "    step_ms: int = 1, images_per_exposure: int = 1) -> ImagesExposuresTuple:\n",
    "    \"\"\"Generate dataset with sliding exposure values in the specified range\n",
    "    \n",
    "    E                    -- sensor irradiance\n",
    "    G                    -- camera response function\n",
    "    bit_depth            -- bit depth for the A/D converter of the camera\n",
    "    start_ms             -- start value (ms) for the range of exposure values\n",
    "    end_ms               -- end value (ms) for the range of exposure values\n",
    "    step_ms              -- step size (ms) for the range of exposure values\n",
    "    images_per_exposure  -- number of images per exposure time\n",
    "    \"\"\"\n",
    "    \n",
    "    exposures = [x / 1e3 for x in range(start_ms, end_ms, step_ms)]\n",
    "    exposures *= images_per_exposure\n",
    "\n",
    "    images = []\n",
    "    for t in exposures:\n",
    "        images.append(capture_image(E=E, t=t, G=G, bit_depth=bit_depth))\n",
    "    \n",
    "    return images, exposures"
   ]
  },
  {
   "cell_type": "code",
   "execution_count": null,
   "metadata": {},
   "outputs": [],
   "source": [
    "# The value is arbitrarily chosen \n",
    "single_pixel_irradiance = np.array([1381])\n",
    "\n",
    "images, exposures = generate_crf_calibration_dataset(E=single_pixel_irradiance, G=linear_crf)\n",
    "util.display_images(images[0::10], shape=(1,1), annot=False)"
   ]
  },
  {
   "cell_type": "code",
   "execution_count": null,
   "metadata": {
    "scrolled": false
   },
   "outputs": [],
   "source": [
    "util.display_observations_distribution(np.array(images))"
   ]
  },
  {
   "cell_type": "code",
   "execution_count": null,
   "metadata": {
    "scrolled": true
   },
   "outputs": [],
   "source": [
    "def recover_U_single_pixel(exposures, images):\n",
    "    # Define an arbitrary (relative) sensor irradiance \n",
    "    # Expected to be wrong by a constant factor X\n",
    "    sensor_irradiance = np.array([100])\n",
    "    \n",
    "    # Initialize the inverse function U to 0s\n",
    "    U = np.array([0.] * 256)\n",
    "\n",
    "    for t, image in zip(exposures, images):\n",
    "        pixel_value = int(image[0])\n",
    "        if pixel_value == 255 or pixel_value == 0:\n",
    "            # Skip under- or overexposed pixels\n",
    "            continue\n",
    "        accumulated_photons = t * sensor_irradiance[0]\n",
    "        U[pixel_value] = accumulated_photons\n",
    "    \n",
    "    return U\n",
    "\n",
    "util.plot_inverse_crf(recover_U_single_pixel(exposures, images))"
   ]
  },
  {
   "cell_type": "code",
   "execution_count": null,
   "metadata": {},
   "outputs": [],
   "source": [
    "def interpolate_missing_values(U):\n",
    "    observed_intensity = np.zeros(len(U), dtype=bool)\n",
    "    observed_intensity[U != 0.0] = True\n",
    "    U[~observed_intensity] = np.interp(\n",
    "        (~observed_intensity).nonzero()[0], \n",
    "        observed_intensity.nonzero()[0], \n",
    "        U[observed_intensity])\n",
    "    return U\n",
    "\n",
    "util.plot_inverse_crf(\n",
    "    interpolate_missing_values(\n",
    "        recover_U_single_pixel(exposures, images)))"
   ]
  },
  {
   "cell_type": "code",
   "execution_count": null,
   "metadata": {
    "scrolled": false
   },
   "outputs": [],
   "source": [
    "# Create a dataset with multiple images for each exposure time\n",
    "images, exposures = generate_crf_calibration_dataset(\n",
    "    E=single_pixel_irradiance, G=linear_crf, images_per_exposure=20)\n",
    "\n",
    "def recover_U_single_pixel_average(exposures, images):\n",
    "    sensor_irradiance = np.array([100])\n",
    "    \n",
    "    U_sum = np.array([0.] * 256)\n",
    "    U_count = np.array([0] * 256)\n",
    "\n",
    "    for t, image in zip(exposures, images):\n",
    "        pixel_value = int(image[0])\n",
    "        if pixel_value == 255 or pixel_value == 0:\n",
    "            # Skip under- or overexposed pixels\n",
    "            continue\n",
    "        accumulated_photons = t * sensor_irradiance[0]\n",
    "        \n",
    "        # Sum all observations for specific pixel value\n",
    "        U_sum[pixel_value] += accumulated_photons\n",
    "        U_count[pixel_value] += 1\n",
    "      \n",
    "    # Calculate the average \n",
    "    observed_intensity = np.zeros(len(U_sum), dtype=bool)\n",
    "    observed_intensity[U_count != 0] = True\n",
    "    \n",
    "    return np.divide(U_sum, U_count, out=np.zeros_like(U_sum), \n",
    "                     where=observed_intensity)\n",
    "\n",
    "recovered_inverse_crf_linear = interpolate_missing_values(\n",
    "    recover_U_single_pixel_average(exposures, images))\n",
    "util.plot_inverse_crf(recovered_inverse_crf_linear)"
   ]
  },
  {
   "cell_type": "code",
   "execution_count": null,
   "metadata": {},
   "outputs": [],
   "source": [
    "# Also increasing the range of exposure times to cover the extended dynamic range of the 12 bits.\n",
    "# The step size is accordingly increased so that the total amount of unique exposures remains 200.\n",
    "images, exposures = generate_crf_calibration_dataset(\n",
    "    E=single_pixel_irradiance, G=apply_gamma, images_per_exposure=20, bit_depth=12,\n",
    "    start_ms=1, end_ms=3001, step_ms=15)\n",
    "\n",
    "util.display_images(images[0:200:10], shape=(1,1), annot=False)"
   ]
  },
  {
   "cell_type": "code",
   "execution_count": null,
   "metadata": {
    "scrolled": true
   },
   "outputs": [],
   "source": [
    "util.display_observations_distribution(np.array(images))"
   ]
  },
  {
   "cell_type": "code",
   "execution_count": null,
   "metadata": {},
   "outputs": [],
   "source": [
    "recovered_inverse_crf_gamma = interpolate_missing_values(\n",
    "    recover_U_single_pixel_average(exposures, images))\n",
    "util.plot_inverse_crf(recovered_inverse_crf_gamma)"
   ]
  },
  {
   "cell_type": "code",
   "execution_count": null,
   "metadata": {},
   "outputs": [],
   "source": [
    "util.plot_inverse_crf_side_by_side(recovered_inverse_crf_linear, recovered_inverse_crf_gamma)"
   ]
  },
  {
   "cell_type": "markdown",
   "metadata": {},
   "source": [
    "### Calibrate with all image pixels 🐣"
   ]
  },
  {
   "cell_type": "code",
   "execution_count": null,
   "metadata": {},
   "outputs": [],
   "source": [
    "def recover_U(E: np.ndarray, exposures: List[float], images: List[np.ndarray]):\n",
    "    \"\"\"Attempt to recover the inverse CRF (U)\n",
    "    \n",
    "    Calculation based on the formula U(I(x)) = t * E(x)\n",
    "    where I(x), t and E(x) are given as arguments.\n",
    "    \n",
    "    All observations for a given I(x) are summed up and \n",
    "    the average is calculated. Non-observed values are interpolated.\n",
    "    \n",
    "    E          -- sensor irradiance\n",
    "    exposures  -- list of exposure times t (seconds)\n",
    "    images     -- images \n",
    "    \"\"\"\n",
    "    U_sum = np.array([0.] * 256)\n",
    "    U_count = np.array([0] * 256)\n",
    "\n",
    "    for t, image in zip(exposures, images):\n",
    "        for i in range(len(image)):\n",
    "            pixel_value = int(image[i])\n",
    "            if pixel_value == 255 or pixel_value == 0:\n",
    "                continue # Skip under- or overexposed pixels\n",
    "            accumulated_photons = t * E[i]\n",
    "\n",
    "            # Sum all observations for specific pixel value\n",
    "            U_sum[pixel_value] += accumulated_photons\n",
    "            U_count[pixel_value] += 1\n",
    "      \n",
    "    # Calculate U as the average of all observations\n",
    "    observed_intensity = np.zeros(len(U_sum), dtype=bool)\n",
    "    observed_intensity[U_count != 0] = True\n",
    "    U = np.divide(U_sum, U_count, out=np.zeros_like(U_sum), \n",
    "                  where=observed_intensity)\n",
    "    \n",
    "    return interpolate_missing_values(U)"
   ]
  },
  {
   "cell_type": "code",
   "execution_count": null,
   "metadata": {},
   "outputs": [],
   "source": [
    "def recover_U_and_E(exposures, images, iterations=5):\n",
    "    \"\"\"Attempt to solve for both the inverse CRF and the sensor irradiance\n",
    "    \n",
    "    Given a dataset, perform a number of iterations by alternatingly solving \n",
    "    for U(x) and E(x) to check if they can converge to a solution.\n",
    "    \"\"\"\n",
    "    E = np.array([100] * len(images[0]))\n",
    "    U = np.array([0.] * 256)\n",
    "\n",
    "    response_function = lambda x: U[int(x)]\n",
    "\n",
    "    U_list = []\n",
    "    E_list = []\n",
    "    for _ in range(iterations):\n",
    "        U = recover_U(E, exposures, images)\n",
    "        U_list.append(U)\n",
    "        E = estimate_sensor_irradiance_weighted(\n",
    "            images, exposures, \n",
    "            U=np.vectorize(response_function), \n",
    "            w=weighting_debevek_malik)\n",
    "        E_list.append(E)\n",
    "    \n",
    "    return U_list, E_list"
   ]
  },
  {
   "cell_type": "code",
   "execution_count": null,
   "metadata": {
    "scrolled": true
   },
   "outputs": [],
   "source": [
    "images, exposures = generate_crf_calibration_dataset(\n",
    "    E=get_sensor_irradiance(), \n",
    "    G=apply_gamma, \n",
    "    images_per_exposure=5, \n",
    "    bit_depth=12,\n",
    "    start_ms=1, \n",
    "    end_ms=3001, \n",
    "    step_ms=15)\n",
    "\n",
    "# Display the first 10 darkest images \n",
    "# (check for good coverage for the brightest pixels)\n",
    "util.display_images(images[0:10], annot=False)\n",
    "# Display every 10th image from the entire dataset \n",
    "# (check for good overall coverage)\n",
    "util.display_images(images[0:200:10], annot=False)"
   ]
  },
  {
   "cell_type": "code",
   "execution_count": null,
   "metadata": {},
   "outputs": [],
   "source": [
    "U_list, E_list = recover_U_and_E(exposures, images, iterations = 5);\n",
    "util.plot_multiple_inverse_crf(U_list)\n",
    "util.display_images([normalize_255(np.log(E + 1)) for E in E_list])"
   ]
  },
  {
   "cell_type": "code",
   "execution_count": null,
   "metadata": {},
   "outputs": [],
   "source": [
    "print(\"Normalized Ground-truth: \", normalize_255(get_sensor_irradiance()))\n",
    "print(\"Normalized Estimate: \", normalize_255(E_list[-1]))\n",
    "print(\"Error: \", normalize_255(\n",
    "    get_sensor_irradiance()) - normalize_255(E_list[-1]))"
   ]
  },
  {
   "cell_type": "code",
   "execution_count": null,
   "metadata": {
    "scrolled": true
   },
   "outputs": [],
   "source": [
    "images, exposures = generate_crf_calibration_dataset(\n",
    "    E=np.array(get_extreme_sensor_irradiance()), G=apply_gamma, \n",
    "    images_per_exposure=5, bit_depth=12,\n",
    "    start_ms=1, end_ms=3001, step_ms=15)\n",
    "\n",
    "util.display_images(images[0:10], annot=False)\n",
    "util.display_images(images[0:200:10], annot=False)"
   ]
  },
  {
   "cell_type": "code",
   "execution_count": null,
   "metadata": {},
   "outputs": [],
   "source": [
    "U_list, E_list = recover_U_and_E(exposures, images, iterations=5);\n",
    "util.plot_multiple_inverse_crf(U_list)\n",
    "util.display_images([normalize_255(np.log(E + 1)) for E in E_list])"
   ]
  },
  {
   "cell_type": "code",
   "execution_count": null,
   "metadata": {},
   "outputs": [],
   "source": [
    "U_list, E_list = recover_U_and_E(exposures, images, iterations=50);\n",
    "util.plot_multiple_inverse_crf(U_list[::10])\n",
    "util.display_images([normalize_255(np.log(E + 1)) for E in E_list[::10]])"
   ]
  },
  {
   "cell_type": "code",
   "execution_count": null,
   "metadata": {
    "scrolled": true
   },
   "outputs": [],
   "source": [
    "print(\"Normalized Ground-truth: \", normalize_255(get_extreme_sensor_irradiance()))\n",
    "print(\"Normalized Estimate: \", normalize_255(E_list[-1]))\n",
    "print(\"Error: \", normalize_255(\n",
    "    get_extreme_sensor_irradiance()) - normalize_255(E_list[-1]))"
   ]
  },
  {
   "cell_type": "markdown",
   "metadata": {},
   "source": [
    "### Real Dataset 🎉"
   ]
  },
  {
   "cell_type": "code",
   "execution_count": null,
   "metadata": {},
   "outputs": [],
   "source": [
    "import os\n",
    "from skimage import io\n",
    "from skimage.measure import block_reduce\n",
    "\n",
    "def load_dataset(path: str, with_downsample: bool = True,\n",
    "                 block_size: Tuple[int, int] = (10, 10)):\n",
    "    \"\"\"Load dataset from the specified path\n",
    "    \n",
    "    Subsambling the image size in order reduce the execution time\n",
    "    of the (unoptimized) example algorithms\n",
    "    \n",
    "    path              -- path to the dataset\n",
    "    with_downsample   -- enable/disable downsampling\n",
    "    block_size        -- block size that gets sampled down to 1 pixel\n",
    "    \"\"\"\n",
    "    image_folder = os.path.join(path, \"images\")\n",
    "    exposure_file = os.path.join(path, \"times.txt\")\n",
    "    gt_file = os.path.join(path, \"pcalib.txt\")\n",
    "\n",
    "    exposures, images = [], []\n",
    "    shape_original, shape_output = None, None\n",
    "    \n",
    "    def downsample(image):\n",
    "        \"\"\"Do max sampling in order to avoid bias from overexposed values\"\"\"\n",
    "        return block_reduce(image, block_size=block_size, func=np.max, cval=0)\n",
    "    \n",
    "    with open(exposure_file, \"r\") as f:\n",
    "        for line in f.readlines():\n",
    "            # Parse meta information and append to output lists\n",
    "            [idx, ts, exposure_ms] = line.strip().split(\" \")\n",
    "            exposures.append(float(exposure_ms) * 1e-3)\n",
    "            \n",
    "            # Load and downsamble image\n",
    "            image_original = io.imread(os.path.join(\n",
    "                image_folder, idx + \".jpg\"), as_gray=True)\n",
    "            image_output = downsample(image_original) \\\n",
    "                if with_downsample else image_original\n",
    "            images.append(image_output.flatten())\n",
    "  \n",
    "            if shape_output is None:\n",
    "                shape_original = image_original.shape\n",
    "                shape_output = image_output.shape\n",
    "    \n",
    "    print(\"Original size: \" + str(shape_original) + \n",
    "          \" Output size: \" + str(shape_output))\n",
    "    \n",
    "    ground_truth = None\n",
    "    with open(gt_file, 'r') as f:\n",
    "        ground_truth = [float(i) for i in f.readline().strip().split()]\n",
    "    \n",
    "    return exposures, images, shape_output, ground_truth"
   ]
  },
  {
   "cell_type": "code",
   "execution_count": null,
   "metadata": {},
   "outputs": [],
   "source": [
    "# Load the linear response dataset\n",
    "exposures, images, shape, ground_truth = load_dataset(\n",
    "    path=\"data/calib_narrow_sweep3\")"
   ]
  },
  {
   "cell_type": "code",
   "execution_count": null,
   "metadata": {
    "scrolled": true
   },
   "outputs": [],
   "source": [
    "util.display_images(images[::200], shape=shape, annot=False)"
   ]
  },
  {
   "cell_type": "code",
   "execution_count": null,
   "metadata": {},
   "outputs": [],
   "source": [
    "# Show the \"ground-truth\" calibration result from the paper\n",
    "plt.title(\"Ground-truth\")\n",
    "plt.plot(ground_truth)"
   ]
  },
  {
   "cell_type": "code",
   "execution_count": null,
   "metadata": {
    "scrolled": false
   },
   "outputs": [],
   "source": [
    "U_list, E_list = recover_U_and_E(exposures, images, iterations=3);\n",
    "util.plot_multiple_inverse_crf(U_list)\n",
    "util.display_images([normalize_255(np.log(E + 1)) for E in E_list], \n",
    "                    shape=shape, annot=False)"
   ]
  },
  {
   "cell_type": "code",
   "execution_count": null,
   "metadata": {},
   "outputs": [],
   "source": [
    "exposures, images, shape, ground_truth = load_dataset(\n",
    "    path=\"data/calib_narrowGamma_sweep3\")\n",
    "util.display_images(images[::200], shape=shape, annot=False)"
   ]
  },
  {
   "cell_type": "code",
   "execution_count": null,
   "metadata": {},
   "outputs": [],
   "source": [
    "# Show the \"ground-truth\" calibration result from the paper\n",
    "plt.title(\"Ground-truth\")\n",
    "plt.plot(ground_truth)"
   ]
  },
  {
   "cell_type": "code",
   "execution_count": null,
   "metadata": {
    "scrolled": false
   },
   "outputs": [],
   "source": [
    "U_list, E_list = recover_U_and_E(exposures, images, iterations=3);\n",
    "util.plot_multiple_inverse_crf(U_list)\n",
    "util.display_images([normalize_255(np.log(E + 1)) for E in E_list], \n",
    "                    shape=shape, annot=False)"
   ]
  }
 ],
 "metadata": {
  "kernelspec": {
   "display_name": "Python 3",
   "language": "python",
   "name": "python3"
  },
  "language_info": {
   "codemirror_mode": {
    "name": "ipython",
    "version": 3
   },
   "file_extension": ".py",
   "mimetype": "text/x-python",
   "name": "python",
   "nbconvert_exporter": "python",
   "pygments_lexer": "ipython3",
   "version": "3.8.6"
  }
 },
 "nbformat": 4,
 "nbformat_minor": 4
}
